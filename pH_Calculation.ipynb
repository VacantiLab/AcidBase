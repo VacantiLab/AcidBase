{
 "cells": [
  {
   "cell_type": "markdown",
   "id": "8d52b2e4",
   "metadata": {},
   "source": [
    "## The code below requires packages\n",
    "The packages are already installed, but must be imported so that Python has access to them"
   ]
  },
  {
   "cell_type": "code",
   "execution_count": 2,
   "id": "663b7899",
   "metadata": {},
   "outputs": [],
   "source": [
    "# Import required packages\n",
    "\n",
    "# numpy is a package that contains a lot of mathematical operations\n",
    "import numpy as np\n",
    "\n",
    "# scipy is a large library and we are importing the fsolve package that is within optimize\n",
    "# fsolve has the non-linear solver we will use to find the set of variable values that satisfy the system of equations\n",
    "from scipy.optimize import fsolve\n",
    "\n",
    "# seaborn is a plotting package\n",
    "import seaborn as sns\n",
    "\n",
    "# pdb stands for \"python de-bug\"\n",
    "# the package has tools to help find mistakes in code\n",
    "# it is not necessary to run the code below\n",
    "from pdb import set_trace"
   ]
  },
  {
   "cell_type": "markdown",
   "id": "3925e9d5",
   "metadata": {},
   "source": [
    "## Example of a Function"
   ]
  },
  {
   "cell_type": "code",
   "execution_count": 3,
   "id": "75fb475b",
   "metadata": {},
   "outputs": [],
   "source": [
    "def ComputeVolume(DimenionVector):\n",
    "    Length = DimensionVector[0]\n",
    "    Width = DimensionVector[1]\n",
    "    Height = DimensionVector[2]\n",
    "    Volume = Length*Width*Height\n",
    "    return(Volume)"
   ]
  },
  {
   "cell_type": "code",
   "execution_count": 4,
   "id": "146433dc",
   "metadata": {},
   "outputs": [],
   "source": [
    "DimensionVector = [4,5,10]"
   ]
  },
  {
   "cell_type": "code",
   "execution_count": 5,
   "id": "a54f2e6f",
   "metadata": {},
   "outputs": [
    {
     "name": "stdout",
     "output_type": "stream",
     "text": [
      "200\n"
     ]
    }
   ],
   "source": [
    "Volume = ComputeVolume(DimensionVector)\n",
    "print(Volume)"
   ]
  },
  {
   "cell_type": "markdown",
   "id": "7cbfaf22",
   "metadata": {},
   "source": [
    "## Determine the pH of a single acid in solution."
   ]
  },
  {
   "cell_type": "markdown",
   "id": "822013be",
   "metadata": {},
   "source": [
    "Define a function that will return a vector of 9 zeros when the system of equations is solved."
   ]
  },
  {
   "cell_type": "code",
   "execution_count": 6,
   "id": "1c6603d5",
   "metadata": {},
   "outputs": [],
   "source": [
    "# Define the function containing the system of equilibrium equations.\n",
    "\n",
    "def equilibrium_equations_1(x):\n",
    "    # Inputs:\n",
    "    #   x is a vector of the unknown variables\n",
    "    \n",
    "    # constrain the domain of possible roots to positive roots\n",
    "    #    the domain is concentration space, and only positive concentrations make sense \n",
    "    x = abs(x)\n",
    "    \n",
    "    # Define constant or given values values\n",
    "    Acid_Concentration = 1.0\n",
    "    pKa = 6.86\n",
    "    Acid_Ka = 10**(-pKa) # this is Python syntax for 10 raised to the -pKa power\n",
    "    \n",
    "    H2Oi = x[0]\n",
    "    H2O = x[1]\n",
    "    OH = x[2]\n",
    "    K_eq_w = x[3]\n",
    "    H = x[4]\n",
    "    HAi = x[5]\n",
    "    Ka = x[6]\n",
    "    A = x[7]\n",
    "    HA = x[8]\n",
    "    \n",
    "    # For each equation in the system, move everything over to the right side so that the left side is 0.\n",
    "    \n",
    "    # H2Oi = H2O + OH\n",
    "    zero_1 = H2O + OH - H2Oi\n",
    "    \n",
    "    # H2Oi = 55.5\n",
    "    zero_2 = 55.5 - H2Oi\n",
    "    \n",
    "    # K_eq_w = H*OH/H2O\n",
    "    zero_3 = H*OH/H2O - K_eq_w\n",
    "    \n",
    "    # K_eq_w = 1.8e-16\n",
    "    zero_4 = 1.8e-16 - K_eq_w\n",
    "    \n",
    "    # HAi = 1\n",
    "    zero_5 = Acid_Concentration - HAi\n",
    "    \n",
    "    # Ka = Acid_Ka\n",
    "    zero_6 = Acid_Ka - Ka\n",
    "    \n",
    "    # Ka = H*A/HA\n",
    "    zero_7 = H*A/HA - Ka\n",
    "    \n",
    "    # HAi = HA + A\n",
    "    zero_8 = HA + A - HAi\n",
    "    \n",
    "    #2*H2O + HAi = H + 2*H2O + HA\n",
    "    zero_9 = H + 2*H2O + HA - 2*H2Oi - HAi\n",
    "\n",
    "    \n",
    "    #Array_To_Return = np.array([root_1,root_2,root_3,root_4,root_5,root_6,root_7,root_8,root_9])\n",
    "    Array_To_Return = [zero_1,zero_2,zero_3,zero_4,zero_5,zero_6,zero_7,zero_8,zero_9]\n",
    "    \n",
    "    return(Array_To_Return)\n"
   ]
  },
  {
   "cell_type": "markdown",
   "id": "353d8f0d",
   "metadata": {},
   "source": [
    "## Determine the set of unkonwn variable values that satisfies the system of equations"
   ]
  },
  {
   "cell_type": "code",
   "execution_count": 7,
   "id": "e6b048d4",
   "metadata": {},
   "outputs": [
    {
     "name": "stdout",
     "output_type": "stream",
     "text": [
      "3.430066975617308\n"
     ]
    }
   ],
   "source": [
    "# solve the system of equations describing the equilibrium of the acid/base mixture\n",
    "\n",
    "# provide an initial guess\n",
    "# fsolve works by guessing values for the variables and determining if they solve the system of equations\n",
    "#     fsolve iteratively guesses until it finds a set of variables that satisfies the equations\n",
    "guess = [1,1,1,1,1,1,1,1,1]\n",
    "\n",
    "# find the solution to the system of equations using fsolve\n",
    "#     the first argument passed to fsolve is a function containing the system of equations to be solved\n",
    "#     the second argument is the vector with initial guesses\n",
    "root_array = fsolve(equilibrium_equations_1,x0=guess)\n",
    "# roots are the values of the vector that will make the function return all zeros\n",
    "#     fsolve finds roots, so we designed our function to have roots where our system of equations is satisified\n",
    "\n",
    "# because we wrote the function we know the 5th variable is the H+ concentration (index #4 in python)\n",
    "#     note that python indexes starting from 0 (other programming languages may start from 1)\n",
    "pH = -np.log10(root_array[4])\n",
    "print(pH)"
   ]
  },
  {
   "cell_type": "markdown",
   "id": "040334c3",
   "metadata": {},
   "source": [
    "## Determine the titration curves for multiple acids."
   ]
  },
  {
   "cell_type": "markdown",
   "id": "dc2fd067",
   "metadata": {},
   "source": [
    "The new function with the equilibrium equations accepts pKa and moles of NaOH as inputs"
   ]
  },
  {
   "cell_type": "code",
   "execution_count": 8,
   "id": "10396b0a",
   "metadata": {},
   "outputs": [],
   "source": [
    "# Define the function containing the system of equilibrium equations.\n",
    "\n",
    "def equilibrium_equations_2(x,pKa,NaOH):\n",
    "    # Inputs:\n",
    "    #   x is a vector of the unknown variables\n",
    "    #   pKa is the pKa of the acid of interest\n",
    "    #   NaOH is the moles of strong base in the titration\n",
    "\n",
    "    # constrain the domain of possible roots to positive roots\n",
    "    #    the domain is concentration space, and only positive concentrations make sense \n",
    "    x = abs(x)\n",
    "    \n",
    "    # Specify properties of the acid in solution\n",
    "    Acid_Concentration = 1\n",
    "    Acid_Ka = 10**(-pKa)\n",
    "    \n",
    "    # unpack the array of variables\n",
    "    H2Oi = x[0]\n",
    "    H2O = x[1]\n",
    "    OH = x[2]\n",
    "    K_eq_w = x[3]\n",
    "    H = x[4]\n",
    "    HAi = x[5]\n",
    "    Ka = x[6]\n",
    "    A = x[7]\n",
    "    HA = x[8]\n",
    "    \n",
    "    # Define the system of equations describing the equilibrium\n",
    "    # NaOH + H2Oi = H2O + OH\n",
    "    # note that NaOH appears in the species balance for OH\n",
    "    zero_1 = H2O + OH - H2Oi - NaOH\n",
    "    \n",
    "    # H2Oi = 55.5\n",
    "    zero_2 = 55.5 - H2Oi\n",
    "    \n",
    "    # K_eq_w = H*OH/H2O\n",
    "    zero_3 = H*OH/H2O - K_eq_w\n",
    "    \n",
    "    # K_eq_w = 1.8e-16\n",
    "    zero_4 = 1.8e-16 - K_eq_w\n",
    "    \n",
    "    # HAi = 1\n",
    "    zero_5 = Acid_Concentration - HAi\n",
    "    \n",
    "    # Ka = Acid_Ka\n",
    "    zero_6 = Acid_Ka - Ka\n",
    "    \n",
    "    # Ka = H*A/HA\n",
    "    zero_7 = H*A/HA - Ka\n",
    "    \n",
    "    # HAi = HA + A\n",
    "    zero_8 = HA + A - HAi\n",
    "    \n",
    "    #2*H2Oi + HAi + NaOH = H + 2*H2O + HA + OH\n",
    "    zero_9 = OH + H + 2*H2O + HA - 2*H2Oi - HAi - NaOH\n",
    "\n",
    "    \n",
    "    # Define the array the function returns\n",
    "    #     This should all be zeros when the system of equations is satisfied\n",
    "    Array_To_Return = [zero_1,zero_2,zero_3,zero_4,zero_5,zero_6,zero_7,zero_8,zero_9]\n",
    "    \n",
    "    return(Array_To_Return)"
   ]
  },
  {
   "cell_type": "markdown",
   "id": "3432a891",
   "metadata": {},
   "source": [
    "## Create a function that will generate a titration curve for individual acids\n",
    "This function needs to solve the system of equations for many values of NaOH <br>\n",
    "It uses a \"for loop\" to do so"
   ]
  },
  {
   "cell_type": "markdown",
   "id": "7e0f9aa0",
   "metadata": {},
   "source": [
    "For loop example"
   ]
  },
  {
   "cell_type": "code",
   "execution_count": 9,
   "id": "3efdd752",
   "metadata": {},
   "outputs": [],
   "source": [
    "ExampleVector = [1,2,3]\n",
    "InitialVector = [0,0,0]\n",
    "LoopIterator = 0\n",
    "for value in ExampleVector:\n",
    "    InitialVector[LoopIterator] = 100*value\n",
    "    LoopIterator = LoopIterator+1"
   ]
  },
  {
   "cell_type": "code",
   "execution_count": null,
   "id": "433a911b",
   "metadata": {},
   "outputs": [],
   "source": [
    "print(InitialVector)"
   ]
  },
  {
   "cell_type": "markdown",
   "id": "e684338e",
   "metadata": {},
   "source": [
    "Define function to produce titration curve for individual acids"
   ]
  },
  {
   "cell_type": "code",
   "execution_count": 11,
   "id": "6b0d36d6",
   "metadata": {},
   "outputs": [],
   "source": [
    "# Define the function that generates the pH curve for a given acid pKa and array of NaOH equivalents\n",
    "\n",
    "def pH_curve(pKa,NaOH_array):    \n",
    "    # solve the system of equations describing the equilibrium of the acid/base mixture\n",
    "\n",
    "    # provide an initial guess\n",
    "    # fsolve works by guessing values for the variables and determining if they solve the system of equations\n",
    "    #     fsolve iteratively guesses until it finds a set of variables that satisfies the equations\n",
    "    guess = [1,1,1,1,1,1,1,1,1]\n",
    "\n",
    "    # find the solution to the system of equations using fsolve\n",
    "    #     the first argument passed to fsolve is a function containing the system of equations to be solved\n",
    "    pH_array = np.zeros(len(NaOH_array))\n",
    "    i = 0\n",
    "\n",
    "    for NaOH in NaOH_array:\n",
    "        # use the previous roots as the next guess\n",
    "        if i>0:\n",
    "            guess = 3*root_array\n",
    "\n",
    "        # solve for the roots\n",
    "        root_array = fsolve(equilibrium_equations_2,x0=guess,args=(pKa,NaOH))\n",
    "\n",
    "        # because we wrote the function we know the 5th variable is the H+ concentration (index #4 in python)\n",
    "        pH = -np.log10(abs(root_array[4]))\n",
    "        pH_array[i] = pH\n",
    "\n",
    "        # iterate the loop counter\n",
    "        i = i+1\n",
    "    \n",
    "    return(pH_array)"
   ]
  },
  {
   "cell_type": "markdown",
   "id": "03f226e3",
   "metadata": {},
   "source": [
    "Produce the titration curve plots (same as figure 2-17)"
   ]
  },
  {
   "cell_type": "code",
   "execution_count": 12,
   "id": "3f60ca93",
   "metadata": {},
   "outputs": [
    {
     "data": {
      "text/plain": [
       "[Text(0.5, 0, 'Equivalents Base Added')]"
      ]
     },
     "execution_count": 12,
     "metadata": {},
     "output_type": "execute_result"
    },
    {
     "data": {
      "image/png": "[encoded data removed]",
      "text/plain": [
       "<Figure size 300x500 with 1 Axes>"
      ]
     },
     "metadata": {},
     "output_type": "display_data"
    }
   ],
   "source": [
    "# Plot the findings\n",
    "\n",
    "# Define an NaOH array\n",
    "NaOH_array = np.arange(0,1,0.01)\n",
    "\n",
    "# Solve for the pH curves for 3 acids in figure 2-17\n",
    "pH_array_1 = pH_curve(4.76,NaOH_array)\n",
    "pH_array_2 = pH_curve(6.86,NaOH_array)\n",
    "pH_array_3 = pH_curve(9.25,NaOH_array)\n",
    "\n",
    "# Set asthetic properties of the graph\n",
    "sns.set(rc={\"figure.figsize\":(3, 5), \\\n",
    "           'axes.facecolor':'FFFFFF', \\\n",
    "           'axes.edgecolor': 'white', \\\n",
    "           'ytick.left': True, \\\n",
    "           'xtick.bottom': True, \\\n",
    "           },\n",
    "       font_scale = 1.0)\n",
    "\n",
    "# Define the plot lines\n",
    "p = sns.lineplot(x=NaOH_array,y=pH_array_1,color='blue')\n",
    "p = sns.lineplot(x=NaOH_array,y=pH_array_2,color='black')\n",
    "p = sns.lineplot(x=NaOH_array,y=pH_array_3,color='red')\n",
    "\n",
    "# Set other asthetic values of the plot\n",
    "p.spines['left'].set_color('black')\n",
    "p.spines['bottom'].set_color('black')\n",
    "p.set(ylim=(0, 14))\n",
    "p.set(xlim=(0, 1.05))\n",
    "p.axhline(0,color='black',linewidth=1)\n",
    "p.set(xlabel=None)\n",
    "p.set(ylabel='pH')\n",
    "p.set(xlabel='Equivalents Base Added')\n",
    "\n",
    "# Create the plot legend - not rendering correctly\n",
    "#p.legend(labels=['Acetic Acid','Dihydrogenphosphate','Ammonium'],frameon=False)\n",
    "\n"
   ]
  }
 ],
 "metadata": {
  "kernelspec": {
   "display_name": "Python 3 (ipykernel)",
   "language": "python",
   "name": "python3"
  },
  "language_info": {
   "codemirror_mode": {
    "name": "ipython",
    "version": 3
   },
   "file_extension": ".py",
   "mimetype": "text/x-python",
   "name": "python",
   "nbconvert_exporter": "python",
   "pygments_lexer": "ipython3",
   "version": "3.12.7"
  }
 },
 "nbformat": 4,
 "nbformat_minor": 5
}
